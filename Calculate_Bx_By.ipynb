{
  "metadata": {
    "language_info": {
      "codemirror_mode": {
        "name": "python",
        "version": 3
      },
      "file_extension": ".py",
      "mimetype": "text/x-python",
      "name": "python",
      "nbconvert_exporter": "python",
      "pygments_lexer": "ipython3",
      "version": "3.8"
    },
    "kernelspec": {
      "name": "python",
      "display_name": "Python (Pyodide)",
      "language": "python"
    }
  },
  "nbformat_minor": 4,
  "nbformat": 4,
  "cells": [
    {
      "cell_type": "code",
      "source": "import numpy as np\nimport matplotlib.pyplot as plt\n\n#-----Inputs-----\nJ = 50   # A/cm2\nL = 250  # cm\nH = 80   # cm\n\nx = 100   # cm\ny = 40   # cm\n\n#----------------\n\n\n\n\n\n# Convert to SI\nJ = J*1e4\nL = L/100\nH = H/100\nx = x/100\ny = y/100\n\nmu0 = 4*np.pi*1e-7\n\n# Calculate at a single point\nBx = mu0*J/(4*np.pi)*( (x-L) * np.log( ((x-L)**2 + (y-H)**2)/((x-L)**2 + (y+H)**2) ) \\\n                  - (x+L) * np.log( ((x+L)**2 + (y-H)**2)/((x+L)**2 + (y+H)**2) ) \\\n                  + 2*(y-H) * (np.arctan((x-L)/(y-H)) - np.arctan((x+L)/(y-H))) \\\n                  - 2*(y+H) * (np.arctan((x-L)/(y+H)) - np.arctan((x+L)/(y+H))) )\n\nBy = -mu0*J/(4*np.pi)*( (y-H) * np.log( ((y-H)**2 + (x-L)**2)/((y-H)**2 + (x+L)**2) ) \\\n                   - (y+H) * np.log( ((y+H)**2 + (x-L)**2)/((y+H)**2 + (x+L)**2) ) \\\n                   + 2*(x-L) * (np.arctan((y-H)/(x-L)) - np.arctan((y+H)/(x-L))) \\\n                   - 2*(x+L) * (np.arctan((y-H)/(x+L)) - np.arctan((y+H)/(x+L))))\n\nprint('Bx = ' + '{:0.2f}'.format(Bx*1e4) + ' Gauss')\nprint('By = ' + '{:0.2f}'.format(By*1e4) + ' Gauss')\n\n\n\n\n# Plotting many points:\n\n# Set up grid\ndx = 0.01\nxmax = 0.6*L\nymax = 0.6*H\nxs = np.arange(-xmax, xmax+dx, dx)\nys = np.arange(-ymax, ymax+dx, dx)\nx,y = np.meshgrid(xs, ys, indexing='xy')\n\nBx = mu0*J/(4*np.pi)*( (x-L) * np.log( ((x-L)**2 + (y-H)**2)/((x-L)**2 + (y+H)**2) ) \\\n                  - (x+L) * np.log( ((x+L)**2 + (y-H)**2)/((x+L)**2 + (y+H)**2) ) \\\n                  + 2*(y-H) * (np.arctan((x-L)/(y-H)) - np.arctan((x+L)/(y-H))) \\\n                  - 2*(y+H) * (np.arctan((x-L)/(y+H)) - np.arctan((x+L)/(y+H))) )\n\nBy = -mu0*J/(4*np.pi)*( (y-H) * np.log( ((y-H)**2 + (x-L)**2)/((y-H)**2 + (x+L)**2) ) \\\n                   - (y+H) * np.log( ((y+H)**2 + (x-L)**2)/((y+H)**2 + (x+L)**2) ) \\\n                   + 2*(x-L) * (np.arctan((y-H)/(x-L)) - np.arctan((y+H)/(x-L))) \\\n                   - 2*(x+L) * (np.arctan((y-H)/(x+L)) - np.arctan((y+H)/(x+L))))\n\n# Plotting\nfig, ax = plt.subplots(2)\nfig.suptitle('J = ' + str(J/1e4) + ' A/cm$^2$, H = ' + str(H*100) + ' cm, L = ' + str(L*100) + ' cm')\nC0 = ax[0].contour(x*1e2, y*1e2, Bx*10, 10)\nax[0].clabel(C0)\nax[0].set_title(r'B$_x$ (kG)')\nax[0].set_ylabel(r'y (cm)')\n\nC1 = ax[1].contour(x*1e2, y*1e2, By*10, 10)\nax[0].clabel(C1)\nax[1].set_title(r'B$_y$ (kG)')\nax[1].set_xlabel(r'x (cm)')\nax[1].set_ylabel(r'y (cm)')\n\nplt.show(block=True)\n",
      "metadata": {
        "trusted": true
      },
      "execution_count": 10,
      "outputs": [
        {
          "name": "stderr",
          "text": "Future exception was never retrieved\nfuture: <Future finished exception=JsException(TypeError: this is null)>\n",
          "output_type": "stream"
        },
        {
          "ename": "<class 'TypeError'>",
          "evalue": "float() argument must be a string or a real number, not 'Future'",
          "traceback": [
            "\u001b[0;31m---------------------------------------------------------------------------\u001b[0m",
            "\u001b[0;31mTypeError\u001b[0m                                 Traceback (most recent call last)",
            "Input \u001b[0;32mIn [10]\u001b[0m, in \u001b[0;36m<cell line: 12>\u001b[0;34m()\u001b[0m\n\u001b[1;32m      9\u001b[0m x \u001b[38;5;241m=\u001b[39m \u001b[38;5;241m100\u001b[39m   \u001b[38;5;66;03m# cm\u001b[39;00m\n\u001b[1;32m     10\u001b[0m y \u001b[38;5;241m=\u001b[39m \u001b[38;5;241m40\u001b[39m   \u001b[38;5;66;03m# cm\u001b[39;00m\n\u001b[0;32m---> 12\u001b[0m J \u001b[38;5;241m=\u001b[39m \u001b[38;5;28;43mfloat\u001b[39;49m\u001b[43m(\u001b[49m\u001b[38;5;28;43minput\u001b[39;49m\u001b[43m(\u001b[49m\u001b[38;5;124;43m'\u001b[39;49m\u001b[38;5;124;43mJ (A/cm2): \u001b[39;49m\u001b[38;5;124;43m'\u001b[39;49m\u001b[43m)\u001b[49m\u001b[43m)\u001b[49m\n\u001b[1;32m     13\u001b[0m L \u001b[38;5;241m=\u001b[39m \u001b[38;5;28mfloat\u001b[39m(\u001b[38;5;28minput\u001b[39m(\u001b[38;5;124m'\u001b[39m\u001b[38;5;124mL (cm): \u001b[39m\u001b[38;5;124m'\u001b[39m))\n\u001b[1;32m     14\u001b[0m H \u001b[38;5;241m=\u001b[39m \u001b[38;5;28mfloat\u001b[39m(\u001b[38;5;28minput\u001b[39m(\u001b[38;5;124m'\u001b[39m\u001b[38;5;124mH (cm): \u001b[39m\u001b[38;5;124m'\u001b[39m))\n",
            "\u001b[0;31mTypeError\u001b[0m: float() argument must be a string or a real number, not 'Future'"
          ],
          "output_type": "error"
        }
      ]
    },
    {
      "cell_type": "code",
      "source": "",
      "metadata": {},
      "execution_count": null,
      "outputs": []
    }
  ]
}